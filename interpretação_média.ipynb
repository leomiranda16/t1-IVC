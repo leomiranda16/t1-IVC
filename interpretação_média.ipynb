{
 "cells": [
  {
   "cell_type": "markdown",
   "id": "d44e97fd",
   "metadata": {},
   "source": [
    "# Importação das Bibliotecas"
   ]
  },
  {
   "cell_type": "code",
   "execution_count": 30,
   "id": "6a39463b",
   "metadata": {},
   "outputs": [],
   "source": [
    "import cv2\n",
    "import json\n",
    "import numpy as np\n",
    "import os"
   ]
  },
  {
   "cell_type": "markdown",
   "id": "a17c75a6",
   "metadata": {},
   "source": [
    "# Captação das Vagas"
   ]
  },
  {
   "cell_type": "code",
   "execution_count": 40,
   "id": "e8437076",
   "metadata": {},
   "outputs": [
    {
     "name": "stdout",
     "output_type": "stream",
     "text": [
      "Ponto clicado: (233, 20)\n",
      "Ponto clicado: (264, 95)\n",
      "Vaga salva: [(233, 20), (264, 95)]\n",
      "Ponto clicado: (217, 138)\n",
      "Ponto clicado: (255, 222)\n",
      "Vaga salva: [(217, 138), (255, 222)]\n",
      "Ponto clicado: (291, 221)\n",
      "Ponto clicado: (321, 294)\n",
      "Vaga salva: [(291, 221), (321, 294)]\n",
      "Ponto clicado: (320, 153)\n",
      "Ponto clicado: (353, 220)\n",
      "Vaga salva: [(320, 153), (353, 220)]\n",
      "Ponto clicado: (425, 223)\n",
      "Ponto clicado: (465, 292)\n",
      "Vaga salva: [(425, 223), (465, 292)]\n",
      "Ponto clicado: (492, 226)\n",
      "Ponto clicado: (535, 297)\n",
      "Vaga salva: [(492, 226), (535, 297)]\n",
      "Ponto clicado: (172, 18)\n",
      "Ponto clicado: (202, 88)\n",
      "Vaga salva: [(172, 18), (202, 88)]\n",
      "Ponto clicado: (329, 22)\n",
      "Ponto clicado: (359, 92)\n",
      "Vaga salva: [(329, 22), (359, 92)]\n",
      "Ponto clicado: (415, 22)\n",
      "Ponto clicado: (455, 100)\n",
      "Vaga salva: [(415, 22), (455, 100)]\n",
      "Ponto clicado: (125, 151)\n",
      "Ponto clicado: (149, 220)\n",
      "Vaga salva: [(125, 151), (149, 220)]\n",
      "Ponto clicado: (189, 222)\n",
      "Ponto clicado: (217, 290)\n",
      "Vaga salva: [(189, 222), (217, 290)]\n",
      "Ponto clicado: (386, 148)\n",
      "Ponto clicado: (424, 222)\n",
      "Vaga salva: [(386, 148), (424, 222)]\n",
      "Ponto clicado: (452, 139)\n",
      "Ponto clicado: (493, 222)\n",
      "Vaga salva: [(452, 139), (493, 222)]\n",
      "Ponto clicado: (255, 218)\n",
      "Ponto clicado: (294, 288)\n",
      "Vaga salva: [(255, 218), (294, 288)]\n",
      "Ponto clicado: (256, 152)\n",
      "Ponto clicado: (286, 214)\n",
      "Vaga salva: [(256, 152), (286, 214)]\n"
     ]
    }
   ],
   "source": [
    "# leitura da imagem\n",
    "while True:\n",
    "    entrada = input('Nome do arquivo (com extensão, ex: imagem.png): ') # usuário deve inserir o nome do arquivo\n",
    "    \n",
    "    if entrada == 'x':\n",
    "        print(\"Encerrado\")\n",
    "        break\n",
    "\n",
    "    if os.path.isfile(entrada):\n",
    "        img = cv2.imread(entrada)\n",
    "        if img is not None:\n",
    "            break\n",
    "        else:\n",
    "            print(\"Erro ao abrir a imagem. Tente outro arquivo.\")\n",
    "    else:\n",
    "        print(\"Arquivo não encontrado. Tenta de novo.\")\n",
    "\n",
    "vaga_atual = []\n",
    "todas_vagas = []\n",
    "\n",
    "# função para selecionar as vagas\n",
    "def clique(event, x, y, flags, param):\n",
    "    global vaga_atual, todas_vagas\n",
    "\n",
    "    if event == cv2.EVENT_LBUTTONDOWN: # se o botão esquerdo for pressionado\n",
    "        vaga_atual.append((x, y)) # adiciona o ponto à lista da vaga atual\n",
    "        # Desenhar o ponto onde o usuário clicou (círculo azul)\n",
    "        cv2.circle(img_clone, (x, y), 5, (255, 0, 0), -1)  # desenha um círculo azul onde o usuário clicou (extremidade da vaga)\n",
    "        print(f\"Ponto clicado: {(x, y)}\") # printa o ponto clicado\n",
    "\n",
    "    if len(vaga_atual) == 2: # se o usuário já fez 2 cliques (preencheu uma vaga):\n",
    "        todas_vagas.append(vaga_atual.copy()) # salva a vaga na lista de vagas, que contém as coordenadas de cada vaga\n",
    "        cv2.rectangle(img_clone, vaga_atual[0], vaga_atual[1], (255, 0, 0), 2) # desenha um retângulo azul, mostrando onde a vaga foi selecionada\n",
    "        print(f\"Vaga salva: {vaga_atual}\") # printa os pontos da vaga, mostrando que ela foi lida\n",
    "        vaga_atual = [] # reseta a lista da vaga atual para a próxima poder ser armazenada\n",
    "\n",
    "\n",
    "img = cv2.imread(entrada) # lê a imagem que o usuário digitou\n",
    "img_clone = img.copy() # cria uma cópia da imagem original, que será usada para desenhar as vagas\n",
    "cv2.namedWindow(\"Imagem\") # cria uma janela onde a imagem será exibida\n",
    "cv2.setMouseCallback(\"Imagem\", clique) # define a função 'clique' para ser chamada quando o usuário clicar na janela\n",
    "\n",
    "while True:\n",
    "    cv2.imshow(\"Imagem\", img_clone) # mostra a imagem\n",
    "    key = cv2.waitKey(1)\n",
    "    if key == 27:\n",
    "        break # sai do loop se ESC for pressionado\n",
    "\n",
    "cv2.destroyAllWindows() # fecha a janela aberta pelo opencv\n",
    "\n",
    "with open(\"coordenadas_vagas.json\", \"w\") as f:\n",
    "    json.dump(todas_vagas, f) # salva as coordenadas em um json"
   ]
  },
  {
   "cell_type": "markdown",
   "id": "0692dfa6",
   "metadata": {},
   "source": [
    "# Interpretação das Vagas (utilizando média)"
   ]
  },
  {
   "cell_type": "code",
   "execution_count": 44,
   "id": "c8458870",
   "metadata": {},
   "outputs": [
    {
     "name": "stdout",
     "output_type": "stream",
     "text": [
      "Limiar baseado na média das entropias: 6.39\n",
      "Vaga 1: entropia = 5.59\n",
      "Vaga 2: entropia = 5.36\n",
      "Vaga 3: entropia = 5.45\n",
      "Vaga 4: entropia = 7.17\n",
      "Vaga 5: entropia = 7.30\n",
      "Vaga 6: entropia = 7.08\n",
      "Vaga 7: entropia = 6.84\n",
      "Vaga 8: entropia = 7.20\n",
      "Vaga 9: entropia = 7.04\n",
      "Vaga 10: entropia = 6.57\n",
      "Vaga 11: entropia = 5.31\n",
      "Vaga 12: entropia = 6.14\n",
      "Vaga 13: entropia = 6.14\n",
      "Vaga 14: entropia = 5.27\n",
      "Vaga 15: entropia = 7.18\n"
     ]
    }
   ],
   "source": [
    "img = cv2.imread(entrada)  # lê a imagem\n",
    "with open(\"coordenadas_vagas.json\", \"r\") as f:\n",
    "    vagas = json.load(f)  # lê o json com as coordenadas das vagas definidas\n",
    "\n",
    "livres = 0\n",
    "ocupadas = 0\n",
    "entropias = []\n",
    "\n",
    "def calcular_entropia(imagem):\n",
    "    histograma = cv2.calcHist([imagem], [0], None, [256], [0, 256])\n",
    "    histograma = histograma / histograma.sum()\n",
    "    entropia = -np.sum(histograma * np.log2(histograma + 1e-7))\n",
    "    return entropia\n",
    "\n",
    "# Primeiro loop: coleta as entropias\n",
    "for vaga in vagas:\n",
    "    (x1, y1), (x2, y2) = vaga\n",
    "    vaga_crop = img[y1:y2, x1:x2]\n",
    "    cinza = cv2.cvtColor(vaga_crop, cv2.COLOR_BGR2GRAY)\n",
    "    entropias.append(calcular_entropia(cinza))\n",
    "\n",
    "# Define o limiar com base na média + deslocamento\n",
    "limiar = np.mean(entropias)\n",
    "print(f\"Limiar baseado na média das entropias: {limiar:.2f}\")\n",
    "\n",
    "# Segundo loop: classifica com base no limiar adaptativo\n",
    "for i, vaga in enumerate(vagas):\n",
    "    (x1, y1), (x2, y2) = vaga\n",
    "    vaga_crop = img[y1:y2, x1:x2]\n",
    "    cinza = cv2.cvtColor(vaga_crop, cv2.COLOR_BGR2GRAY)\n",
    "    entropia = calcular_entropia(cinza)\n",
    "    print(f\"Vaga {i+1}: entropia = {entropia:.2f}\")\n",
    "\n",
    "    if entropia < limiar:\n",
    "        cor = (0, 255, 0)\n",
    "        livres += 1\n",
    "    else:\n",
    "        cor = (0, 0, 255)\n",
    "        ocupadas += 1\n",
    "\n",
    "    cv2.rectangle(img, (x1, y1), (x2, y2), cor, 2)\n",
    "\n",
    "cv2.imshow(\"Resultado\", img)\n",
    "cv2.imwrite(\"resultado.png\", img)\n",
    "\n",
    "while True:\n",
    "    cv2.imshow(\"Resultado\", img) # mostra a imagem\n",
    "    key = cv2.waitKey(1)\n",
    "    if key == 27:\n",
    "        break\n",
    "\n",
    "cv2.destroyAllWindows()"
   ]
  },
  {
   "cell_type": "markdown",
   "id": "57f53111",
   "metadata": {},
   "source": [
    "# Relatório"
   ]
  },
  {
   "cell_type": "code",
   "execution_count": 42,
   "id": "2b7230ee",
   "metadata": {},
   "outputs": [],
   "source": [
    "relatorio = []\n",
    "\n",
    "# escreve no relatório\n",
    "relatorio.append(f\"Total de vagas: {livres + ocupadas}\")\n",
    "relatorio.append(f\"Vagas livres: {livres}\")\n",
    "relatorio.append(f\"Vagas ocupadas: {ocupadas}\")\n",
    "\n",
    "# salva o relatório\n",
    "with open(\"relatorio_vagas.txt\", \"w\") as f:\n",
    "    f.write(\"\\n\".join(relatorio))"
   ]
  },
  {
   "cell_type": "markdown",
   "id": "ddd205a1",
   "metadata": {},
   "source": [
    "# Foto com Legenda"
   ]
  },
  {
   "cell_type": "code",
   "execution_count": 43,
   "id": "444e3905",
   "metadata": {},
   "outputs": [
    {
     "data": {
      "text/plain": [
       "True"
      ]
     },
     "execution_count": 43,
     "metadata": {},
     "output_type": "execute_result"
    }
   ],
   "source": [
    "img_legenda = cv2.imread(\"resultado.png\")\n",
    "\n",
    "total = livres + ocupadas\n",
    "texto = [\n",
    "    f\"Total: {total}\",\n",
    "    f\"Livres: {livres}\",\n",
    "    f\"Ocupadas: {ocupadas}\"\n",
    "]\n",
    "\n",
    "# fundo branco\n",
    "overlay = img_legenda.copy()\n",
    "cv2.rectangle(overlay, (10, img_legenda.shape[0]-50), (220, img_legenda.shape[0]-10), (255, 255, 255), -1)\n",
    "img_legenda = cv2.addWeighted(overlay, 0.6, img_legenda, 0.4, 0)\n",
    "\n",
    "# escrever texto com fonte menor\n",
    "for i, linha in enumerate(texto):\n",
    "    y = img_legenda.shape[0] - 35 + i*15\n",
    "    cv2.putText(img_legenda, linha, (20, y), cv2.FONT_HERSHEY_SIMPLEX, 0.5, (0,0,0), 1, cv2.LINE_AA)\n",
    "\n",
    "cv2.imwrite(\"legenda.png\", img_legenda)\n"
   ]
  }
 ],
 "metadata": {
  "kernelspec": {
   "display_name": "Python 3",
   "language": "python",
   "name": "python3"
  },
  "language_info": {
   "codemirror_mode": {
    "name": "ipython",
    "version": 3
   },
   "file_extension": ".py",
   "mimetype": "text/x-python",
   "name": "python",
   "nbconvert_exporter": "python",
   "pygments_lexer": "ipython3",
   "version": "3.11.2"
  }
 },
 "nbformat": 4,
 "nbformat_minor": 5
}
