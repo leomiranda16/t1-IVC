{
 "cells": [
  {
   "cell_type": "code",
   "execution_count": 79,
   "id": "e8437076",
   "metadata": {},
   "outputs": [
    {
     "name": "stdout",
     "output_type": "stream",
     "text": [
      "Vaga salva: [(7, 127), (62, 146)]\n",
      "Vaga salva: [(5, 107), (60, 124)]\n",
      "Vaga salva: [(77, 65), (135, 83)]\n",
      "Vaga salva: [(76, 88), (135, 102)]\n",
      "Vaga salva: [(75, 129), (135, 148)]\n",
      "Coordenadas salvas com sucesso!\n"
     ]
    }
   ],
   "source": [
    "import cv2\n",
    "import json\n",
    "\n",
    "vaga_atual = []\n",
    "todas_vagas = []\n",
    "\n",
    "def clique(event, x, y, flags, param):\n",
    "    global vaga_atual, todas_vagas\n",
    "\n",
    "    if event == cv2.EVENT_LBUTTONDOWN:\n",
    "        vaga_atual.append((x, y))\n",
    "    if len(vaga_atual) == 2:\n",
    "        todas_vagas.append(vaga_atual.copy())\n",
    "        cv2.rectangle(img_clone, vaga_atual[0], vaga_atual[1], (255, 0, 0), 2)\n",
    "        print(f\"Vaga salva: {vaga_atual}\")\n",
    "        vaga_atual = []\n",
    "\n",
    "\n",
    "entrada = input('Nome do arquivo:')\n",
    "img = cv2.imread(entrada)\n",
    "img_clone = img.copy()\n",
    "cv2.namedWindow(\"Imagem\")\n",
    "cv2.setMouseCallback(\"Imagem\", clique)\n",
    "\n",
    "while True:\n",
    "    cv2.imshow(\"Imagem\", img_clone)\n",
    "    key = cv2.waitKey(1)\n",
    "    if key == 27:  # ESC pra sair\n",
    "        break\n",
    "\n",
    "cv2.destroyAllWindows()\n",
    "\n",
    "# Salvar coordenadas\n",
    "with open(\"coordenadas_vagas.json\", \"w\") as f:\n",
    "    json.dump(todas_vagas, f)\n",
    "\n",
    "print(\"Coordenadas salvas com sucesso!\")\n"
   ]
  },
  {
   "cell_type": "code",
   "execution_count": 80,
   "id": "c8458870",
   "metadata": {},
   "outputs": [
    {
     "name": "stdout",
     "output_type": "stream",
     "text": [
      "Vaga 1: entropia = 5.36\n",
      "Vaga 2: entropia = 7.18\n",
      "Vaga 3: entropia = 7.19\n",
      "Vaga 4: entropia = 7.18\n",
      "Vaga 5: entropia = 7.03\n"
     ]
    }
   ],
   "source": [
    "import numpy as np\n",
    "\n",
    "def calcular_entropia(imagem):\n",
    "    histograma = cv2.calcHist([imagem], [0], None, [256], [0, 256])\n",
    "    histograma = histograma / histograma.sum()  # Normalizar\n",
    "    entropia = -np.sum(histograma * np.log2(histograma + 1e-10))  # Evitar log(0)\n",
    "    return entropia\n",
    "\n",
    "LIMIAR_ENTROPIA = 6.3\n",
    "\n",
    "img = cv2.imread(entrada)\n",
    "with open(\"coordenadas_vagas.json\", \"r\") as f:\n",
    "    vagas = json.load(f)\n",
    "\n",
    "for i, vaga in enumerate(vagas):\n",
    "    (x1, y1), (x2, y2) = vaga\n",
    "    vaga_crop = img[y1:y2, x1:x2]\n",
    "\n",
    "    # Converter para escala de cinza\n",
    "    cinza = cv2.cvtColor(vaga_crop, cv2.COLOR_BGR2GRAY)\n",
    "\n",
    "    # Calcular a entropia da imagem recortada\n",
    "    entropia = calcular_entropia(cinza)\n",
    "    print(f\"Vaga {i+1}: entropia = {entropia:.2f}\")\n",
    "\n",
    "    # Usar entropia para determinar se a vaga está livre ou ocupada\n",
    "    if entropia < LIMIAR_ENTROPIA:\n",
    "        status = \"Livre\"\n",
    "        cor = (0, 255, 0)  # Verde\n",
    "    else:\n",
    "        status = \"Ocupada\"\n",
    "        cor = (0, 0, 255)  # Vermelho\n",
    "\n",
    "    # Desenhar o retângulo na imagem original\n",
    "    cv2.rectangle(img, (x1, y1), (x2, y2), cor, 2)\n",
    "\n",
    "# Mostrar imagem final com vagas marcadas\n",
    "cv2.imshow(\"Resultado\", img)\n",
    "cv2.waitKey(0)\n",
    "cv2.destroyAllWindows()\n"
   ]
  }
 ],
 "metadata": {
  "kernelspec": {
   "display_name": "Python 3",
   "language": "python",
   "name": "python3"
  },
  "language_info": {
   "codemirror_mode": {
    "name": "ipython",
    "version": 3
   },
   "file_extension": ".py",
   "mimetype": "text/x-python",
   "name": "python",
   "nbconvert_exporter": "python",
   "pygments_lexer": "ipython3",
   "version": "3.11.9"
  }
 },
 "nbformat": 4,
 "nbformat_minor": 5
}
