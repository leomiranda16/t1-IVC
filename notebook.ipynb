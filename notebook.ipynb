{
 "cells": [
  {
   "cell_type": "markdown",
   "id": "d44e97fd",
   "metadata": {},
   "source": [
    "# Importação das Bibliotecas"
   ]
  },
  {
   "cell_type": "code",
   "execution_count": 3,
   "id": "6a39463b",
   "metadata": {},
   "outputs": [],
   "source": [
    "import cv2\n",
    "import json\n",
    "import numpy as np\n",
    "import os"
   ]
  },
  {
   "cell_type": "markdown",
   "id": "a17c75a6",
   "metadata": {},
   "source": [
    "# Captação das Vagas"
   ]
  },
  {
   "cell_type": "code",
   "execution_count": null,
   "id": "e8437076",
   "metadata": {},
   "outputs": [
    {
     "name": "stdout",
     "output_type": "stream",
     "text": [
      "Ponto clicado: (551, 185)\n",
      "Ponto clicado: (657, 296)\n",
      "Vaga salva: [(551, 185), (657, 296)]\n",
      "Ponto clicado: (671, 327)\n",
      "Ponto clicado: (771, 424)\n",
      "Vaga salva: [(671, 327), (771, 424)]\n"
     ]
    }
   ],
   "source": [
    "# leitura da imagem\n",
    "while True:\n",
    "    entrada = input('Nome do arquivo (com extensão, ex: imagem.png): ') # usuário deve inserir o nome do arquivo\n",
    "    \n",
    "    if entrada == 'x':\n",
    "        print(\"Encerrado\")\n",
    "        break\n",
    "\n",
    "    if os.path.isfile(entrada):\n",
    "        img = cv2.imread(entrada)\n",
    "        if img is not None:\n",
    "            break\n",
    "        else:\n",
    "            print(\"Erro ao abrir a imagem. Tente outro arquivo.\")\n",
    "    else:\n",
    "        print(\"Arquivo não encontrado. Tenta de novo.\")\n",
    "\n",
    "vaga_atual = []\n",
    "todas_vagas = []\n",
    "\n",
    "# função para selecionar as vagas\n",
    "def clique(event, x, y, flags, param):\n",
    "    global vaga_atual, todas_vagas\n",
    "\n",
    "    if event == cv2.EVENT_LBUTTONDOWN: # se o botão esquerdo for pressionado\n",
    "        vaga_atual.append((x, y)) # adiciona o ponto à lista da vaga atual\n",
    "        # Desenhar o ponto onde o usuário clicou (círculo azul)\n",
    "        cv2.circle(img_clone, (x, y), 5, (255, 0, 0), -1)  # desenha um círculo azul onde o usuário clicou (extremidade da vaga)\n",
    "        print(f\"Ponto clicado: {(x, y)}\") # printa o ponto clicado\n",
    "\n",
    "    if len(vaga_atual) == 2: # se o usuário já fez 2 cliques (preencheu uma vaga):\n",
    "        todas_vagas.append(vaga_atual.copy()) # salva a vaga na lista de vagas, que contém as coordenadas de cada vaga\n",
    "        cv2.rectangle(img_clone, vaga_atual[0], vaga_atual[1], (255, 0, 0), 2) # desenha um retângulo azul, mostrando onde a vaga foi selecionada\n",
    "        print(f\"Vaga salva: {vaga_atual}\") # printa os pontos da vaga, mostrando que ela foi lida\n",
    "        vaga_atual = [] # reseta a lista da vaga atual para a próxima poder ser armazenada\n",
    "\n",
    "\n",
    "img = cv2.imread(entrada) # lê a imagem que o usuário digitou\n",
    "img_clone = img.copy() # cria uma cópia da imagem original, que será usada para desenhar as vagas\n",
    "cv2.namedWindow(\"Imagem\") # cria uma janela onde a imagem será exibida\n",
    "cv2.setMouseCallback(\"Imagem\", clique) # define a função 'clique' para ser chamada quando o usuário clicar na janela\n",
    "\n",
    "while True:\n",
    "    cv2.imshow(\"Imagem\", img_clone) # mostra a imagem\n",
    "    key = cv2.waitKey(1)\n",
    "    if key == 27:\n",
    "        break # sai do loop se ESC for pressionado\n",
    "\n",
    "cv2.destroyAllWindows() # fecha a janela aberta pelo opencv\n",
    "\n",
    "with open(\"coordenadas_vagas.json\", \"w\") as f:\n",
    "    json.dump(todas_vagas, f) # salva as coordenadas em um json"
   ]
  },
  {
   "cell_type": "markdown",
   "id": "0692dfa6",
   "metadata": {},
   "source": [
    "# Interpretação das Vagas"
   ]
  },
  {
   "cell_type": "code",
   "execution_count": 7,
   "id": "c8458870",
   "metadata": {},
   "outputs": [
    {
     "name": "stdout",
     "output_type": "stream",
     "text": [
      "Vaga 1: entropia = 6.95\n",
      "Vaga 2: entropia = 7.07\n"
     ]
    }
   ],
   "source": [
    "img = cv2.imread(entrada) # lê a imagem\n",
    "with open(\"coordenadas_vagas.json\", \"r\") as f:\n",
    "    vagas = json.load(f) # lê o json com as coordenadas das vagas definidas\n",
    "\n",
    "# inicializa as variáveis\n",
    "livres = 0\n",
    "ocupadas = 0\n",
    "\n",
    "def calcular_entropia(imagem):\n",
    "    histograma = cv2.calcHist([imagem], [0], None, [256], [0, 256]) # calcula o histograma da imagem\n",
    "    # 0 -> primeiro canal da imagem; None -> não há aplicação de máscara; 256 -> nbins; 0,256 -> intervalo de intensidade\n",
    "    histograma = histograma / histograma.sum()  # normaliza o histograma dividindo pelo somatório total para garantir que a soma dos valores seja 1\n",
    "    entropia = -np.sum(histograma * np.log2(histograma + 0.0000001)) # calcula a entropia (evitando log(0))\n",
    "    return entropia\n",
    "\n",
    "for i, vaga in enumerate(vagas):\n",
    "    (x1, y1), (x2, y2) = vaga\n",
    "    vaga_crop = img[y1:y2, x1:x2]\n",
    "\n",
    "    cinza = cv2.cvtColor(vaga_crop, cv2.COLOR_BGR2GRAY) # converte a imagem da vaga para a grayscale\n",
    "\n",
    "    entropia = calcular_entropia(cinza) # calcula a entropia da imagem da vaga em grayscale usando a função criada anteriormente\n",
    "    print(f\"Vaga {i+1}: entropia = {entropia:.2f}\") # mostra a entropia da vaga analisada\n",
    "\n",
    "# definimos o valor 6.5 como sendo adequado para definir a situação das vagas analisadas (valor pode variar conforme imagem analisada)\n",
    "    if entropia < 6.5: # vaga está livre\n",
    "        cor = (0, 255, 0) # cor verde -> vaga livre\n",
    "        livres +=1\n",
    "    else: # vaga está ocupada\n",
    "        cor = (0, 0, 255) # cor vermelha -> vaga ocupada\n",
    "        ocupadas += 1\n",
    "\n",
    "    cv2.rectangle(img, (x1, y1), (x2, y2), cor, 2) # desenha um retângulo nas coordenadas definidas inicialmente, com a coloração correspondente\n",
    "\n",
    "cv2.imshow(\"Resultado\", img) # mostra a imagem com as vagas já classificadas\n",
    "cv2.imwrite(\"resultado.png\", img) # salva a imagem\n",
    "\n",
    "while True:\n",
    "    cv2.imshow(\"Resultado\", img) # mostra a imagem\n",
    "    key = cv2.waitKey(1)\n",
    "    if key == 27: \n",
    "        break # sai do loop se ESC for pressionado\n",
    "\n",
    "cv2.destroyAllWindows() # fecha a janela aberta pelo opencv\n"
   ]
  },
  {
   "cell_type": "markdown",
   "id": "57f53111",
   "metadata": {},
   "source": [
    "# Relatório"
   ]
  },
  {
   "cell_type": "code",
   "execution_count": null,
   "id": "2b7230ee",
   "metadata": {},
   "outputs": [],
   "source": [
    "relatorio = []\n",
    "\n",
    "# escreve no relatório\n",
    "relatorio.append(f\"Total de vagas: {livres + ocupadas}\")\n",
    "relatorio.append(f\"Vagas livres: {livres}\")\n",
    "relatorio.append(f\"Vagas ocupadas: {ocupadas}\")\n",
    "\n",
    "# salva o relatório\n",
    "with open(\"relatorio_vagas.txt\", \"w\") as f:\n",
    "    f.write(\"\\n\".join(relatorio))"
   ]
  },
  {
   "cell_type": "markdown",
   "id": "ddd205a1",
   "metadata": {},
   "source": [
    "# Foto com Legenda"
   ]
  },
  {
   "cell_type": "code",
   "execution_count": null,
   "id": "444e3905",
   "metadata": {},
   "outputs": [
    {
     "data": {
      "text/plain": [
       "True"
      ]
     },
     "execution_count": 45,
     "metadata": {},
     "output_type": "execute_result"
    }
   ],
   "source": [
    "img_legenda = cv2.imread(\"resultado.png\")\n",
    "\n",
    "total = livres + ocupadas\n",
    "texto = [\n",
    "    f\"Total: {total}\",\n",
    "    f\"Livres: {livres}\",\n",
    "    f\"Ocupadas: {ocupadas}\"\n",
    "]\n",
    "\n",
    "# fundo branco\n",
    "overlay = img_legenda.copy()\n",
    "cv2.rectangle(overlay, (10, img_legenda.shape[0]-50), (220, img_legenda.shape[0]-10), (255, 255, 255), -1)\n",
    "img_legenda = cv2.addWeighted(overlay, 0.6, img_legenda, 0.4, 0)\n",
    "\n",
    "# escrever texto com fonte menor\n",
    "for i, linha in enumerate(texto):\n",
    "    y = img_legenda.shape[0] - 35 + i*15\n",
    "    cv2.putText(img_legenda, linha, (20, y), cv2.FONT_HERSHEY_SIMPLEX, 0.5, (0,0,0), 1, cv2.LINE_AA)\n",
    "\n",
    "cv2.imwrite(\"legenda.png\", img_legenda)\n"
   ]
  }
 ],
 "metadata": {
  "kernelspec": {
   "display_name": "Python 3",
   "language": "python",
   "name": "python3"
  },
  "language_info": {
   "codemirror_mode": {
    "name": "ipython",
    "version": 3
   },
   "file_extension": ".py",
   "mimetype": "text/x-python",
   "name": "python",
   "nbconvert_exporter": "python",
   "pygments_lexer": "ipython3",
   "version": "3.11.9"
  }
 },
 "nbformat": 4,
 "nbformat_minor": 5
}
